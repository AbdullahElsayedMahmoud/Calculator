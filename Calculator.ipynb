{
  "nbformat": 4,
  "nbformat_minor": 0,
  "metadata": {
    "colab": {
      "provenance": []
    },
    "kernelspec": {
      "name": "python3",
      "display_name": "Python 3"
    },
    "language_info": {
      "name": "python"
    }
  },
  "cells": [
    {
      "cell_type": "code",
      "execution_count": 1,
      "metadata": {
        "colab": {
          "base_uri": "https://localhost:8080/"
        },
        "id": "RO6prXdh36E0",
        "outputId": "b9fb2839-e5d5-4ece-eabf-4da9c0084117"
      },
      "outputs": [
        {
          "output_type": "stream",
          "name": "stdout",
          "text": [
            "Welcome to the calculator!\n",
            "Select operation:\n",
            "1. Add\n",
            "2. Subtract\n",
            "3. Multiply\n",
            "4. Divide\n",
            "5. Exit\n",
            "Enter operation number (1/2/3/4/5): 1\n",
            "Enter the first number: 2\n",
            "Enter the second number: 5\n",
            "Result: 7.0\n",
            "Select operation:\n",
            "1. Add\n",
            "2. Subtract\n",
            "3. Multiply\n",
            "4. Divide\n",
            "5. Exit\n",
            "Enter operation number (1/2/3/4/5): 2\n",
            "Enter the first number: 5\n",
            "Enter the second number: 1\n",
            "Result: 4.0\n",
            "Select operation:\n",
            "1. Add\n",
            "2. Subtract\n",
            "3. Multiply\n",
            "4. Divide\n",
            "5. Exit\n",
            "Enter operation number (1/2/3/4/5): 3\n",
            "Enter the first number: 6\n",
            "Enter the second number: 9\n",
            "Result: 54.0\n",
            "Select operation:\n",
            "1. Add\n",
            "2. Subtract\n",
            "3. Multiply\n",
            "4. Divide\n",
            "5. Exit\n",
            "Enter operation number (1/2/3/4/5): 4\n",
            "Enter the first number: 5\n",
            "Enter the second number: 0\n",
            "Result: Cannot divide by zero\n",
            "Select operation:\n",
            "1. Add\n",
            "2. Subtract\n",
            "3. Multiply\n",
            "4. Divide\n",
            "5. Exit\n",
            "Enter operation number (1/2/3/4/5): 5\n",
            "Exiting the program.\n"
          ]
        }
      ],
      "source": [
        "def add(x, y):\n",
        "    return x + y\n",
        "\n",
        "def subtract(x, y):\n",
        "    return x - y\n",
        "\n",
        "def multiply(x, y):\n",
        "    return x * y\n",
        "\n",
        "def divide(x, y):\n",
        "    if y != 0:\n",
        "        return x / y\n",
        "    else:\n",
        "        return \"Cannot divide by zero\"\n",
        "\n",
        "print(\"Welcome to the calculator!\")\n",
        "while True:\n",
        "    print(\"Select operation:\")\n",
        "    print(\"1. Add\")\n",
        "    print(\"2. Subtract\")\n",
        "    print(\"3. Multiply\")\n",
        "    print(\"4. Divide\")\n",
        "    print(\"5. Exit\")\n",
        "\n",
        "    choice = input(\"Enter operation number (1/2/3/4/5): \")\n",
        "\n",
        "    if choice == '5':\n",
        "        print(\"Exiting the program.\")\n",
        "        break\n",
        "\n",
        "    num1 = float(input(\"Enter the first number: \"))\n",
        "    num2 = float(input(\"Enter the second number: \"))\n",
        "\n",
        "    if choice == '1':\n",
        "        print(\"Result:\", add(num1, num2))\n",
        "    elif choice == '2':\n",
        "        print(\"Result:\", subtract(num1, num2))\n",
        "    elif choice == '3':\n",
        "        print(\"Result:\", multiply(num1, num2))\n",
        "    elif choice == '4':\n",
        "        print(\"Result:\", divide(num1, num2))\n",
        "    else:\n",
        "        print(\"Invalid choice!\")"
      ]
    }
  ]
}